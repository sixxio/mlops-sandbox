{
 "cells": [
  {
   "cell_type": "code",
   "execution_count": 2,
   "metadata": {},
   "outputs": [],
   "source": [
    "import pandas as pd\n",
    "import mlflow\n",
    "\n",
    "from sklearn.linear_model import LinearRegression\n",
    "from sklearn.tree import DecisionTreeRegressor\n",
    "from sklearn.ensemble import RandomForestRegressor, GradientBoostingRegressor\n",
    "from sklearn.svm import SVR\n",
    "\n",
    "import numpy as np"
   ]
  },
  {
   "cell_type": "code",
   "execution_count": 3,
   "metadata": {},
   "outputs": [],
   "source": [
    "data = pd.read_parquet('./data/large.parquet.gz')\n",
    "data = data[data['ticker'] == 'AAPL']"
   ]
  },
  {
   "cell_type": "code",
   "execution_count": 4,
   "metadata": {},
   "outputs": [],
   "source": [
    "train, test = data[(data['dateTime']>='01-01-2021') & (data['dateTime']<'01-01-2022')], data[(data['dateTime']>='01-01-2022') & (data['dateTime']<'01-01-2023')]"
   ]
  },
  {
   "cell_type": "code",
   "execution_count": 5,
   "metadata": {},
   "outputs": [],
   "source": [
    "train = train['close'].values\n",
    "test = test['close'].values"
   ]
  },
  {
   "cell_type": "code",
   "execution_count": 6,
   "metadata": {},
   "outputs": [],
   "source": [
    "segment_len = 7\n",
    "train_x, train_y = [], []\n",
    "\n",
    "for i in range(train.shape[0]-segment_len):\n",
    "    train_x += [train[i:i+segment_len-1]]\n",
    "    train_y += [train[i+segment_len]]\n",
    "\n",
    "test_x, test_y = [], []\n",
    "\n",
    "for i in range(test.shape[0]-segment_len):\n",
    "    test_x += [test[i:i+segment_len-1]]\n",
    "    test_y += [test[i+segment_len]]\n",
    "\n",
    "\n",
    "train_x = np.array(train_x)\n",
    "train_y = np.array(train_y)\n",
    "test_x = np.array(test_x)\n",
    "test_y = np.array(test_y)"
   ]
  },
  {
   "cell_type": "code",
   "execution_count": 9,
   "metadata": {},
   "outputs": [],
   "source": [
    "import time\n",
    "from sklearn.metrics import mean_squared_error, mean_absolute_error, root_mean_squared_error, mean_absolute_percentage_error, r2_score\n"
   ]
  },
  {
   "cell_type": "code",
   "execution_count": 69,
   "metadata": {},
   "outputs": [
    {
     "name": "stderr",
     "output_type": "stream",
     "text": [
      "2024/02/02 18:49:56 INFO mlflow.tracking.fluent: Autologging successfully enabled for sklearn.\n"
     ]
    }
   ],
   "source": [
    "mlflow.autolog()\n",
    "\n",
    "\n",
    "statistics = []\n",
    "models = {  'LR' :  LinearRegression(),\n",
    "            'DTR' : DecisionTreeRegressor(min_samples_leaf=10),\n",
    "            'RFR' : RandomForestRegressor(),\n",
    "            'GBR' : GradientBoostingRegressor(),\n",
    "            'SVR' : SVR(kernel='linear', epsilon=1e-2)}\n",
    "\n",
    "for model_decription, model in models.items():\n",
    "    start_time = time.time()\n",
    "    with mlflow.start_run(run_name=model_decription):\n",
    "        model.fit(train_x, train_y) \n",
    "    # utilized = time.time() - start_time\n",
    "    # preds = model.predict(test_x)\n",
    "    # statistics.append({'time':utilized, 'mse': mean_squared_error(test_y, preds),'mae': mean_absolute_error(test_y, preds),'model': model_decription})"
   ]
  },
  {
   "cell_type": "code",
   "execution_count": 10,
   "metadata": {},
   "outputs": [
    {
     "name": "stderr",
     "output_type": "stream",
     "text": [
      "2024/02/02 21:45:56 INFO mlflow.tracking.fluent: Autologging successfully enabled for sklearn.\n"
     ]
    }
   ],
   "source": [
    "mlflow.autolog()\n",
    "\n",
    "statistics = []\n",
    "models = {  'LR' :  LinearRegression(),\n",
    "            # 'DTR' : DecisionTreeRegressor(min_samples_leaf=10),\n",
    "            # 'RFR' : RandomForestRegressor(),\n",
    "            # 'GBR' : GradientBoostingRegressor(),\n",
    "            'SVR' : SVR(kernel='linear', epsilon=1e-2)}\n",
    "\n",
    "for model_decription, model in models.items():\n",
    "    with mlflow.start_run(run_name=model_decription):\n",
    "        model.fit(train_x, train_y) \n",
    "        # mlflow.log_metrics({\n",
    "        #     'mse': mlflow.metrics.mse(model.predict(test_x), test_y)\n",
    "        # })\n",
    "        preds = model.predict(test_x)\n",
    "        mlflow.log_metrics({\n",
    "            'mse': mean_squared_error(test_y, preds),\n",
    "            'mae': mean_absolute_error(test_y, preds),\n",
    "            'mape': mean_absolute_percentage_error(test_y, preds),\n",
    "            'rmse': root_mean_squared_error(test_y, preds),\n",
    "            'r2_score': r2_score(test_y, preds),\n",
    "        })"
   ]
  },
  {
   "cell_type": "code",
   "execution_count": 72,
   "metadata": {},
   "outputs": [],
   "source": [
    "# NN methods\n",
    "from tensorflow.keras import Sequential\n",
    "from tensorflow.keras.layers import LSTM, Dense, GRU, SimpleRNN, Conv1D, MaxPooling1D, Flatten, GlobalMaxPooling1D, Input, Dropout\n",
    "\n",
    "import warnings\n",
    "warnings.filterwarnings(\"ignore\")\n",
    "\n",
    "\n",
    "sequence_length = 7\n",
    "neurons_per_layer = sequence_length-1\n",
    "input_shape = (sequence_length-1, 1)\n",
    "topologies = {  'CNN + LSTM': [Conv1D(filters = 32, kernel_size = 3, activation = 'relu', input_shape = input_shape),\n",
    "                               LSTM(units = neurons_per_layer),\n",
    "                               Dense(units = 1)],\n",
    "                'LSTM x3': [LSTM(units = neurons_per_layer, \n",
    "                                 return_sequences = True, \n",
    "                                 input_shape = input_shape),\n",
    "                            LSTM(units = neurons_per_layer, \n",
    "                                 return_sequences = True),\n",
    "                            LSTM(units = neurons_per_layer),\n",
    "                            Dense(units = 1)],\n",
    "                'LSTM x2': [LSTM(units = neurons_per_layer, \n",
    "                                 return_sequences = True, \n",
    "                                 input_shape = input_shape),\n",
    "                            LSTM(units = neurons_per_layer),\n",
    "                            Dense(units = 1)],\n",
    "                'LSTM x1': [LSTM(units = neurons_per_layer, \n",
    "                                 input_shape = input_shape),\n",
    "                            Dense(units = 1)],\n",
    "                'CNN + GRU': [Conv1D(filters = 32, kernel_size = 3, activation = 'relu', input_shape = input_shape),\n",
    "                              GRU(units = neurons_per_layer),\n",
    "                              Dense(units = 1)],\n",
    "                'GRU x3' : [GRU(units = neurons_per_layer, \n",
    "                                return_sequences = True, \n",
    "                                input_shape = input_shape),\n",
    "                            GRU(units = neurons_per_layer, \n",
    "                                return_sequences = True),\n",
    "                            GRU(units = neurons_per_layer),\n",
    "                            Dense(units = 1)],\n",
    "                'GRU x2' : [GRU(units = neurons_per_layer, \n",
    "                                return_sequences = True, \n",
    "                                input_shape = input_shape),\n",
    "                            GRU(units = neurons_per_layer),\n",
    "                            Dense(units = 1)],\n",
    "                'GRU x1' : [GRU(units = neurons_per_layer, \n",
    "                                input_shape = input_shape),\n",
    "                            Dense(units = 1)],\n",
    "                'CNN + SimpleRNN': [Conv1D(filters = 32, kernel_size = 3, activation = 'relu', input_shape = input_shape),\n",
    "                                     SimpleRNN(units = neurons_per_layer),\n",
    "                                     Dense(units = 1)],\n",
    "                'SimpleRNN x3':[SimpleRNN(units = neurons_per_layer, \n",
    "                                          return_sequences = True, \n",
    "                                          input_shape = input_shape),\n",
    "                                SimpleRNN(units = neurons_per_layer, \n",
    "                                          return_sequences = True),\n",
    "                                SimpleRNN(units = neurons_per_layer),\n",
    "                                Dense(units = 1)],\n",
    "                'SimpleRNN x2':[SimpleRNN(units = neurons_per_layer, \n",
    "                                          return_sequences = True, \n",
    "                                          input_shape = input_shape),\n",
    "                                SimpleRNN(units = neurons_per_layer),\n",
    "                                Dense(units = 1)],\n",
    "                'SimpleRNN x1':[SimpleRNN(units = neurons_per_layer, \n",
    "                                          input_shape = input_shape),\n",
    "                                Dense(units = 1)],\n",
    "                'CNN': [Conv1D(filters = 32, kernel_size = 3, input_shape = input_shape, activation = 'relu'),\n",
    "                        Flatten(),\n",
    "                        Dense(units = 1)],\n",
    "                'MLP(2)': [Dense(units = neurons_per_layer, input_shape = (neurons_per_layer,)),\n",
    "                        Dense(units = neurons_per_layer),\n",
    "                        Dense(units = 1)],\n",
    "                'MLP(1)': [Dense(units = neurons_per_layer, input_shape = (neurons_per_layer,)),\n",
    "                        Dense(units = 1)],\n",
    "                }"
   ]
  },
  {
   "cell_type": "code",
   "execution_count": 73,
   "metadata": {},
   "outputs": [
    {
     "name": "stderr",
     "output_type": "stream",
     "text": [
      "2024/02/02 20:30:03 WARNING mlflow.tensorflow: Failed to infer model signature: could not sample data to infer model signature: tuple index out of range\n",
      "2024/02/02 20:30:03 WARNING mlflow.tensorflow: You are saving a TensorFlow Core model or Keras model without a signature. Inference with mlflow.pyfunc.spark_udf() will not work unless the model's pyfunc representation accepts pandas DataFrames as inference inputs.\n",
      "WARNING:absl:Found untraced functions such as _jit_compiled_convolution_op, lstm_cell_7_layer_call_fn, lstm_cell_7_layer_call_and_return_conditional_losses while saving (showing 3 of 3). These functions will not be directly callable after loading.\n"
     ]
    },
    {
     "name": "stdout",
     "output_type": "stream",
     "text": [
      "INFO:tensorflow:Assets written to: C:\\Users\\sixxio\\AppData\\Local\\Temp\\tmpep2od0n8\\model\\data\\model\\assets\n"
     ]
    },
    {
     "name": "stderr",
     "output_type": "stream",
     "text": [
      "INFO:tensorflow:Assets written to: C:\\Users\\sixxio\\AppData\\Local\\Temp\\tmpep2od0n8\\model\\data\\model\\assets\n",
      "2024/02/02 20:30:25 WARNING mlflow.tensorflow: Failed to infer model signature: could not sample data to infer model signature: tuple index out of range\n",
      "2024/02/02 20:30:25 WARNING mlflow.tensorflow: You are saving a TensorFlow Core model or Keras model without a signature. Inference with mlflow.pyfunc.spark_udf() will not work unless the model's pyfunc representation accepts pandas DataFrames as inference inputs.\n",
      "WARNING:absl:Found untraced functions such as lstm_cell_8_layer_call_fn, lstm_cell_8_layer_call_and_return_conditional_losses, lstm_cell_9_layer_call_fn, lstm_cell_9_layer_call_and_return_conditional_losses, lstm_cell_10_layer_call_fn while saving (showing 5 of 6). These functions will not be directly callable after loading.\n"
     ]
    },
    {
     "name": "stdout",
     "output_type": "stream",
     "text": [
      "INFO:tensorflow:Assets written to: C:\\Users\\sixxio\\AppData\\Local\\Temp\\tmpk6syy482\\model\\data\\model\\assets\n"
     ]
    },
    {
     "name": "stderr",
     "output_type": "stream",
     "text": [
      "INFO:tensorflow:Assets written to: C:\\Users\\sixxio\\AppData\\Local\\Temp\\tmpk6syy482\\model\\data\\model\\assets\n",
      "2024/02/02 20:31:06 WARNING mlflow.tensorflow: Failed to infer model signature: could not sample data to infer model signature: tuple index out of range\n",
      "2024/02/02 20:31:06 WARNING mlflow.tensorflow: You are saving a TensorFlow Core model or Keras model without a signature. Inference with mlflow.pyfunc.spark_udf() will not work unless the model's pyfunc representation accepts pandas DataFrames as inference inputs.\n",
      "WARNING:absl:Found untraced functions such as lstm_cell_11_layer_call_fn, lstm_cell_11_layer_call_and_return_conditional_losses, lstm_cell_12_layer_call_fn, lstm_cell_12_layer_call_and_return_conditional_losses while saving (showing 4 of 4). These functions will not be directly callable after loading.\n"
     ]
    },
    {
     "name": "stdout",
     "output_type": "stream",
     "text": [
      "INFO:tensorflow:Assets written to: C:\\Users\\sixxio\\AppData\\Local\\Temp\\tmpy6bixe3e\\model\\data\\model\\assets\n"
     ]
    },
    {
     "name": "stderr",
     "output_type": "stream",
     "text": [
      "INFO:tensorflow:Assets written to: C:\\Users\\sixxio\\AppData\\Local\\Temp\\tmpy6bixe3e\\model\\data\\model\\assets\n",
      "2024/02/02 20:31:36 WARNING mlflow.tensorflow: Failed to infer model signature: could not sample data to infer model signature: tuple index out of range\n",
      "2024/02/02 20:31:36 WARNING mlflow.tensorflow: You are saving a TensorFlow Core model or Keras model without a signature. Inference with mlflow.pyfunc.spark_udf() will not work unless the model's pyfunc representation accepts pandas DataFrames as inference inputs.\n",
      "WARNING:absl:Found untraced functions such as lstm_cell_13_layer_call_fn, lstm_cell_13_layer_call_and_return_conditional_losses while saving (showing 2 of 2). These functions will not be directly callable after loading.\n"
     ]
    },
    {
     "name": "stdout",
     "output_type": "stream",
     "text": [
      "INFO:tensorflow:Assets written to: C:\\Users\\sixxio\\AppData\\Local\\Temp\\tmpzip4jvh5\\model\\data\\model\\assets\n"
     ]
    },
    {
     "name": "stderr",
     "output_type": "stream",
     "text": [
      "INFO:tensorflow:Assets written to: C:\\Users\\sixxio\\AppData\\Local\\Temp\\tmpzip4jvh5\\model\\data\\model\\assets\n",
      "2024/02/02 20:31:55 WARNING mlflow.tensorflow: Failed to infer model signature: could not sample data to infer model signature: tuple index out of range\n",
      "2024/02/02 20:31:55 WARNING mlflow.tensorflow: You are saving a TensorFlow Core model or Keras model without a signature. Inference with mlflow.pyfunc.spark_udf() will not work unless the model's pyfunc representation accepts pandas DataFrames as inference inputs.\n",
      "WARNING:absl:Found untraced functions such as _jit_compiled_convolution_op, gru_cell_7_layer_call_fn, gru_cell_7_layer_call_and_return_conditional_losses while saving (showing 3 of 3). These functions will not be directly callable after loading.\n"
     ]
    },
    {
     "name": "stdout",
     "output_type": "stream",
     "text": [
      "INFO:tensorflow:Assets written to: C:\\Users\\sixxio\\AppData\\Local\\Temp\\tmptms9ulp4\\model\\data\\model\\assets\n"
     ]
    },
    {
     "name": "stderr",
     "output_type": "stream",
     "text": [
      "INFO:tensorflow:Assets written to: C:\\Users\\sixxio\\AppData\\Local\\Temp\\tmptms9ulp4\\model\\data\\model\\assets\n",
      "2024/02/02 20:32:16 WARNING mlflow.tensorflow: Failed to infer model signature: could not sample data to infer model signature: tuple index out of range\n",
      "2024/02/02 20:32:16 WARNING mlflow.tensorflow: You are saving a TensorFlow Core model or Keras model without a signature. Inference with mlflow.pyfunc.spark_udf() will not work unless the model's pyfunc representation accepts pandas DataFrames as inference inputs.\n",
      "WARNING:absl:Found untraced functions such as gru_cell_8_layer_call_fn, gru_cell_8_layer_call_and_return_conditional_losses, gru_cell_9_layer_call_fn, gru_cell_9_layer_call_and_return_conditional_losses, gru_cell_10_layer_call_fn while saving (showing 5 of 6). These functions will not be directly callable after loading.\n"
     ]
    },
    {
     "name": "stdout",
     "output_type": "stream",
     "text": [
      "INFO:tensorflow:Assets written to: C:\\Users\\sixxio\\AppData\\Local\\Temp\\tmpe7gqie03\\model\\data\\model\\assets\n"
     ]
    },
    {
     "name": "stderr",
     "output_type": "stream",
     "text": [
      "INFO:tensorflow:Assets written to: C:\\Users\\sixxio\\AppData\\Local\\Temp\\tmpe7gqie03\\model\\data\\model\\assets\n",
      "2024/02/02 20:32:53 WARNING mlflow.tensorflow: Failed to infer model signature: could not sample data to infer model signature: tuple index out of range\n",
      "2024/02/02 20:32:53 WARNING mlflow.tensorflow: You are saving a TensorFlow Core model or Keras model without a signature. Inference with mlflow.pyfunc.spark_udf() will not work unless the model's pyfunc representation accepts pandas DataFrames as inference inputs.\n",
      "WARNING:absl:Found untraced functions such as gru_cell_11_layer_call_fn, gru_cell_11_layer_call_and_return_conditional_losses, gru_cell_12_layer_call_fn, gru_cell_12_layer_call_and_return_conditional_losses while saving (showing 4 of 4). These functions will not be directly callable after loading.\n"
     ]
    },
    {
     "name": "stdout",
     "output_type": "stream",
     "text": [
      "INFO:tensorflow:Assets written to: C:\\Users\\sixxio\\AppData\\Local\\Temp\\tmpixhqa8no\\model\\data\\model\\assets\n"
     ]
    },
    {
     "name": "stderr",
     "output_type": "stream",
     "text": [
      "INFO:tensorflow:Assets written to: C:\\Users\\sixxio\\AppData\\Local\\Temp\\tmpixhqa8no\\model\\data\\model\\assets\n",
      "2024/02/02 20:33:19 WARNING mlflow.tensorflow: Failed to infer model signature: could not sample data to infer model signature: tuple index out of range\n",
      "2024/02/02 20:33:19 WARNING mlflow.tensorflow: You are saving a TensorFlow Core model or Keras model without a signature. Inference with mlflow.pyfunc.spark_udf() will not work unless the model's pyfunc representation accepts pandas DataFrames as inference inputs.\n",
      "WARNING:absl:Found untraced functions such as gru_cell_13_layer_call_fn, gru_cell_13_layer_call_and_return_conditional_losses while saving (showing 2 of 2). These functions will not be directly callable after loading.\n"
     ]
    },
    {
     "name": "stdout",
     "output_type": "stream",
     "text": [
      "INFO:tensorflow:Assets written to: C:\\Users\\sixxio\\AppData\\Local\\Temp\\tmp50rmczgb\\model\\data\\model\\assets\n"
     ]
    },
    {
     "name": "stderr",
     "output_type": "stream",
     "text": [
      "INFO:tensorflow:Assets written to: C:\\Users\\sixxio\\AppData\\Local\\Temp\\tmp50rmczgb\\model\\data\\model\\assets\n",
      "2024/02/02 20:33:35 WARNING mlflow.tensorflow: Failed to infer model signature: could not sample data to infer model signature: tuple index out of range\n",
      "2024/02/02 20:33:35 WARNING mlflow.tensorflow: You are saving a TensorFlow Core model or Keras model without a signature. Inference with mlflow.pyfunc.spark_udf() will not work unless the model's pyfunc representation accepts pandas DataFrames as inference inputs.\n",
      "WARNING:absl:Found untraced functions such as _jit_compiled_convolution_op while saving (showing 1 of 1). These functions will not be directly callable after loading.\n"
     ]
    },
    {
     "name": "stdout",
     "output_type": "stream",
     "text": [
      "INFO:tensorflow:Assets written to: C:\\Users\\sixxio\\AppData\\Local\\Temp\\tmpaysxy_0a\\model\\data\\model\\assets\n"
     ]
    },
    {
     "name": "stderr",
     "output_type": "stream",
     "text": [
      "INFO:tensorflow:Assets written to: C:\\Users\\sixxio\\AppData\\Local\\Temp\\tmpaysxy_0a\\model\\data\\model\\assets\n",
      "2024/02/02 20:33:46 WARNING mlflow.tensorflow: Failed to infer model signature: could not sample data to infer model signature: tuple index out of range\n",
      "2024/02/02 20:33:46 WARNING mlflow.tensorflow: You are saving a TensorFlow Core model or Keras model without a signature. Inference with mlflow.pyfunc.spark_udf() will not work unless the model's pyfunc representation accepts pandas DataFrames as inference inputs.\n"
     ]
    },
    {
     "name": "stdout",
     "output_type": "stream",
     "text": [
      "INFO:tensorflow:Assets written to: C:\\Users\\sixxio\\AppData\\Local\\Temp\\tmpw_qcgzhi\\model\\data\\model\\assets\n"
     ]
    },
    {
     "name": "stderr",
     "output_type": "stream",
     "text": [
      "INFO:tensorflow:Assets written to: C:\\Users\\sixxio\\AppData\\Local\\Temp\\tmpw_qcgzhi\\model\\data\\model\\assets\n",
      "2024/02/02 20:34:02 WARNING mlflow.tensorflow: Failed to infer model signature: could not sample data to infer model signature: tuple index out of range\n",
      "2024/02/02 20:34:02 WARNING mlflow.tensorflow: You are saving a TensorFlow Core model or Keras model without a signature. Inference with mlflow.pyfunc.spark_udf() will not work unless the model's pyfunc representation accepts pandas DataFrames as inference inputs.\n"
     ]
    },
    {
     "name": "stdout",
     "output_type": "stream",
     "text": [
      "INFO:tensorflow:Assets written to: C:\\Users\\sixxio\\AppData\\Local\\Temp\\tmpn_u_9y04\\model\\data\\model\\assets\n"
     ]
    },
    {
     "name": "stderr",
     "output_type": "stream",
     "text": [
      "INFO:tensorflow:Assets written to: C:\\Users\\sixxio\\AppData\\Local\\Temp\\tmpn_u_9y04\\model\\data\\model\\assets\n",
      "2024/02/02 20:34:15 WARNING mlflow.tensorflow: Failed to infer model signature: could not sample data to infer model signature: tuple index out of range\n",
      "2024/02/02 20:34:15 WARNING mlflow.tensorflow: You are saving a TensorFlow Core model or Keras model without a signature. Inference with mlflow.pyfunc.spark_udf() will not work unless the model's pyfunc representation accepts pandas DataFrames as inference inputs.\n"
     ]
    },
    {
     "name": "stdout",
     "output_type": "stream",
     "text": [
      "INFO:tensorflow:Assets written to: C:\\Users\\sixxio\\AppData\\Local\\Temp\\tmpw5zxidih\\model\\data\\model\\assets\n"
     ]
    },
    {
     "name": "stderr",
     "output_type": "stream",
     "text": [
      "INFO:tensorflow:Assets written to: C:\\Users\\sixxio\\AppData\\Local\\Temp\\tmpw5zxidih\\model\\data\\model\\assets\n",
      "2024/02/02 20:34:25 WARNING mlflow.tensorflow: Failed to infer model signature: could not sample data to infer model signature: tuple index out of range\n",
      "2024/02/02 20:34:25 WARNING mlflow.tensorflow: You are saving a TensorFlow Core model or Keras model without a signature. Inference with mlflow.pyfunc.spark_udf() will not work unless the model's pyfunc representation accepts pandas DataFrames as inference inputs.\n",
      "WARNING:absl:Found untraced functions such as _jit_compiled_convolution_op while saving (showing 1 of 1). These functions will not be directly callable after loading.\n"
     ]
    },
    {
     "name": "stdout",
     "output_type": "stream",
     "text": [
      "INFO:tensorflow:Assets written to: C:\\Users\\sixxio\\AppData\\Local\\Temp\\tmp04oykfx4\\model\\data\\model\\assets\n"
     ]
    },
    {
     "name": "stderr",
     "output_type": "stream",
     "text": [
      "INFO:tensorflow:Assets written to: C:\\Users\\sixxio\\AppData\\Local\\Temp\\tmp04oykfx4\\model\\data\\model\\assets\n",
      "2024/02/02 20:34:32 WARNING mlflow.tensorflow: Failed to infer model signature: could not sample data to infer model signature: tuple index out of range\n",
      "2024/02/02 20:34:32 WARNING mlflow.tensorflow: You are saving a TensorFlow Core model or Keras model without a signature. Inference with mlflow.pyfunc.spark_udf() will not work unless the model's pyfunc representation accepts pandas DataFrames as inference inputs.\n"
     ]
    },
    {
     "name": "stdout",
     "output_type": "stream",
     "text": [
      "INFO:tensorflow:Assets written to: C:\\Users\\sixxio\\AppData\\Local\\Temp\\tmpsa7i161e\\model\\data\\model\\assets\n"
     ]
    },
    {
     "name": "stderr",
     "output_type": "stream",
     "text": [
      "INFO:tensorflow:Assets written to: C:\\Users\\sixxio\\AppData\\Local\\Temp\\tmpsa7i161e\\model\\data\\model\\assets\n",
      "2024/02/02 20:34:39 WARNING mlflow.tensorflow: Failed to infer model signature: could not sample data to infer model signature: tuple index out of range\n",
      "2024/02/02 20:34:39 WARNING mlflow.tensorflow: You are saving a TensorFlow Core model or Keras model without a signature. Inference with mlflow.pyfunc.spark_udf() will not work unless the model's pyfunc representation accepts pandas DataFrames as inference inputs.\n"
     ]
    },
    {
     "name": "stdout",
     "output_type": "stream",
     "text": [
      "INFO:tensorflow:Assets written to: C:\\Users\\sixxio\\AppData\\Local\\Temp\\tmp9eytgal7\\model\\data\\model\\assets\n"
     ]
    },
    {
     "name": "stderr",
     "output_type": "stream",
     "text": [
      "INFO:tensorflow:Assets written to: C:\\Users\\sixxio\\AppData\\Local\\Temp\\tmp9eytgal7\\model\\data\\model\\assets\n"
     ]
    }
   ],
   "source": [
    "for model_decription in topologies:\n",
    "    topology = topologies[model_decription]\n",
    "    with mlflow.start_run(run_name=model_decription):\n",
    "        epochs = 5\n",
    "        batch_size = 32\n",
    "        current_topology_model = Sequential(topology)\n",
    "        current_topology_model.compile(optimizer = 'Adamax', loss = 'mean_squared_error', metrics = ['mean_absolute_error'])\n",
    "        current_topology_model.fit(x = train_x, y = train_y, epochs = epochs, batch_size = batch_size, verbose = 0)\n",
    "        mse, mae = current_topology_model.evaluate(test_x, test_y, verbose = 0)"
   ]
  }
 ],
 "metadata": {
  "kernelspec": {
   "display_name": "mlflow",
   "language": "python",
   "name": "python3"
  },
  "language_info": {
   "codemirror_mode": {
    "name": "ipython",
    "version": 3
   },
   "file_extension": ".py",
   "mimetype": "text/x-python",
   "name": "python",
   "nbconvert_exporter": "python",
   "pygments_lexer": "ipython3",
   "version": "3.9.18"
  }
 },
 "nbformat": 4,
 "nbformat_minor": 2
}
